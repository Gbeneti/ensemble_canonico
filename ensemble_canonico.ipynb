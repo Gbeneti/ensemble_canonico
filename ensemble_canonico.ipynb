{
 "cells": [
  {
   "cell_type": "code",
   "execution_count": 1,
   "metadata": {},
   "outputs": [],
   "source": [
    "import numpy as np\n",
    "import pandas as pd\n",
    "import itertools\n",
    "import matplotlib.pyplot as plt\n",
    "import seaborn as sns"
   ]
  },
  {
   "cell_type": "code",
   "execution_count": 2,
   "metadata": {},
   "outputs": [],
   "source": [
    "#constantes\n",
    "Kb = 8.6173324e-5\n",
    "\n",
    "SIZE = 3\n",
    "TEMPERATURAS = [i for i in np.arange(250,350.1,0.1)]\n",
    "\n",
    "E_A = -1\n",
    "E_B = -1\n",
    "E_AA = -0.05\n",
    "E_BB = -0.05\n",
    "E_AB = -0.05\n",
    "\n",
    "N_A = 1\n",
    "N_B = (SIZE * SIZE) - N_A\n",
    "E_on_site = N_A * E_A + N_B * E_B"
   ]
  },
  {
   "cell_type": "code",
   "execution_count": 3,
   "metadata": {},
   "outputs": [],
   "source": [
    "def possible_matrices(size, N_a):\n",
    "    matrices = []\n",
    "    # Define the counts of A and B\n",
    "    N_b = (size * size) - N_a\n",
    "\n",
    "    # Generate all possible arrangements of \"A\" and \"B\" in the matrix\n",
    "    elements = ['A'] * N_a + ['B'] * N_b\n",
    "    arrangements = set(itertools.permutations(elements, size * size))\n",
    "\n",
    "    # Iterate over each arrangement and reshape it into a matrix\n",
    "    for arrangement in arrangements:\n",
    "        matrix = np.array(arrangement).reshape(size, size)\n",
    "        matrices.append(matrix)\n",
    "    \n",
    "    #print(len(matrices))\n",
    "    return matrices"
   ]
  },
  {
   "cell_type": "code",
   "execution_count": 4,
   "metadata": {},
   "outputs": [],
   "source": [
    "def determinar_vizinhos(matrix, size):\n",
    "\n",
    "    # Array of offsets for neighboring elements\n",
    "    offsets = np.array([[0, 1], [1, 0], [0, -1], [-1, 0]])\n",
    "\n",
    "    # Generate indices for all elements in the matrix\n",
    "    i, j = np.indices((size, size))\n",
    "\n",
    "    # Reshape offsets to have an extra dimension for broadcasting\n",
    "    reshaped_offsets = offsets.reshape(1, 1, -1, 2)\n",
    "\n",
    "    # Calculate indices of neighboring elements\n",
    "    neighbor_indices = (i[..., np.newaxis, np.newaxis] + reshaped_offsets) % np.array([size,size])\n",
    "    #print(neighbor_indices)\n",
    "\n",
    "    # Create a dictionary to store neighbors\n",
    "    vizinhos = {(x, y): matrix[neighbor_indices[x, y, :, 0], neighbor_indices[x, y, :, 1]].tolist() for x in range(size) for y in range(size)}\n",
    "\n",
    "    return vizinhos\n"
   ]
  },
  {
   "cell_type": "code",
   "execution_count": 5,
   "metadata": {},
   "outputs": [],
   "source": [
    "def energia_total(matrix, vizinhos_dict, E_AB, E_AA, E_BB, E_on_site):\n",
    "    coordenadas_on_site = np.array(list(vizinhos_dict.keys()))\n",
    "    on_site_values = matrix[coordenadas_on_site[:, 0], coordenadas_on_site[:, 1]]\n",
    "    vizinhos_values = np.array([vizinhos_dict[(x, y)] for x, y in coordenadas_on_site])\n",
    "\n",
    "    energia_vizinhos = np.where(vizinhos_values != on_site_values[:, None], E_AB, 0)\n",
    "\n",
    "    energia_vizinhos += np.where(\n",
    "        np.logical_and(vizinhos_values == on_site_values[:, None], on_site_values[:, None] == 'A'), E_AA, 0)\n",
    "\n",
    "    energia_vizinhos += np.where(\n",
    "        np.logical_and(vizinhos_values == on_site_values[:, None], on_site_values[:, None] == 'B'), E_BB, 0)\n",
    "\n",
    "    energia_matrix = np.sum(energia_vizinhos) + E_on_site\n",
    "\n",
    "    return energia_matrix\n"
   ]
  },
  {
   "cell_type": "code",
   "execution_count": 6,
   "metadata": {},
   "outputs": [],
   "source": [
    "def helmholtz(energias, temperatura):\n",
    "    \"\"\"Essa função calcula o valor da função de partição\n",
    "    \n",
    "    Args:\n",
    "        \n",
    "        energias: lista com a energia de cada configuração da célula.\n",
    "        temperatura: temperatura na qual estaria a célula.\n",
    "        \n",
    "    Return:\n",
    "    \n",
    "        Z: valor da função de partição em uma temperatura.\n",
    "    \"\"\"\n",
    "    beta = 1.0 / (Kb * temperatura)\n",
    "    Z = 0.0\n",
    "    for energia in energias:\n",
    "        Z += np.exp(-beta * energia)\n",
    "\n",
    "    F = beta * np.log(Z)\n",
    "    \n",
    "    return F"
   ]
  },
  {
   "cell_type": "code",
   "execution_count": 7,
   "metadata": {},
   "outputs": [],
   "source": [
    "def analise(size, N_a, temperaturas):\n",
    "    energia_matrix_list = []\n",
    "    energia_helmholtz_list = []\n",
    "    \n",
    "    matrices = possible_matrices(size,N_a)\n",
    "\n",
    "    for matrix in matrices:\n",
    "        vizinhos = determinar_vizinhos(matrix,size)\n",
    "        energia_matrix = energia_total(matrix, vizinhos, E_AB, E_AA, E_BB, E_on_site)\n",
    "        energia_matrix_list.append(energia_matrix)\n",
    "\n",
    "    for T in temperaturas:\n",
    "        energia_helmholtz = helmholtz(energia_matrix_list,T)\n",
    "        energia_helmholtz_list.append(energia_helmholtz)\n",
    "\n",
    "    data = pd.DataFrame({\"Temperatura\": temperaturas, \"Energia de Helmholtz\": energia_helmholtz_list})\n",
    "    return data"
   ]
  },
  {
   "cell_type": "code",
   "execution_count": 8,
   "metadata": {},
   "outputs": [
    {
     "data": {
      "text/html": [
       "<div>\n",
       "<style scoped>\n",
       "    .dataframe tbody tr th:only-of-type {\n",
       "        vertical-align: middle;\n",
       "    }\n",
       "\n",
       "    .dataframe tbody tr th {\n",
       "        vertical-align: top;\n",
       "    }\n",
       "\n",
       "    .dataframe thead th {\n",
       "        text-align: right;\n",
       "    }\n",
       "</style>\n",
       "<table border=\"1\" class=\"dataframe\">\n",
       "  <thead>\n",
       "    <tr style=\"text-align: right;\">\n",
       "      <th></th>\n",
       "      <th>Temperatura</th>\n",
       "      <th>Energia de Helmholtz</th>\n",
       "    </tr>\n",
       "  </thead>\n",
       "  <tbody>\n",
       "    <tr>\n",
       "      <th>0</th>\n",
       "      <td>250.0</td>\n",
       "      <td>23372.080092</td>\n",
       "    </tr>\n",
       "    <tr>\n",
       "      <th>1</th>\n",
       "      <td>250.1</td>\n",
       "      <td>23353.434404</td>\n",
       "    </tr>\n",
       "    <tr>\n",
       "      <th>2</th>\n",
       "      <td>250.2</td>\n",
       "      <td>23334.811053</td>\n",
       "    </tr>\n",
       "    <tr>\n",
       "      <th>3</th>\n",
       "      <td>250.3</td>\n",
       "      <td>23316.210002</td>\n",
       "    </tr>\n",
       "    <tr>\n",
       "      <th>4</th>\n",
       "      <td>250.4</td>\n",
       "      <td>23297.631216</td>\n",
       "    </tr>\n",
       "    <tr>\n",
       "      <th>...</th>\n",
       "      <td>...</td>\n",
       "      <td>...</td>\n",
       "    </tr>\n",
       "    <tr>\n",
       "      <th>997</th>\n",
       "      <td>349.7</td>\n",
       "      <td>11965.786679</td>\n",
       "    </tr>\n",
       "    <tr>\n",
       "      <th>998</th>\n",
       "      <td>349.8</td>\n",
       "      <td>11958.966994</td>\n",
       "    </tr>\n",
       "    <tr>\n",
       "      <th>999</th>\n",
       "      <td>349.9</td>\n",
       "      <td>11952.153148</td>\n",
       "    </tr>\n",
       "    <tr>\n",
       "      <th>1000</th>\n",
       "      <td>350.0</td>\n",
       "      <td>11945.345137</td>\n",
       "    </tr>\n",
       "    <tr>\n",
       "      <th>1001</th>\n",
       "      <td>350.1</td>\n",
       "      <td>11938.542952</td>\n",
       "    </tr>\n",
       "  </tbody>\n",
       "</table>\n",
       "<p>1002 rows × 2 columns</p>\n",
       "</div>"
      ],
      "text/plain": [
       "      Temperatura  Energia de Helmholtz\n",
       "0           250.0          23372.080092\n",
       "1           250.1          23353.434404\n",
       "2           250.2          23334.811053\n",
       "3           250.3          23316.210002\n",
       "4           250.4          23297.631216\n",
       "...           ...                   ...\n",
       "997         349.7          11965.786679\n",
       "998         349.8          11958.966994\n",
       "999         349.9          11952.153148\n",
       "1000        350.0          11945.345137\n",
       "1001        350.1          11938.542952\n",
       "\n",
       "[1002 rows x 2 columns]"
      ]
     },
     "execution_count": 8,
     "metadata": {},
     "output_type": "execute_result"
    }
   ],
   "source": [
    "df_helmholtz = analise(SIZE,N_A,TEMPERATURAS)\n",
    "df_helmholtz"
   ]
  },
  {
   "cell_type": "code",
   "execution_count": 9,
   "metadata": {},
   "outputs": [
    {
     "data": {
      "image/png": "[encoded data removed]",
      "text/plain": [
       "<Figure size 1000x600 with 1 Axes>"
      ]
     },
     "metadata": {},
     "output_type": "display_data"
    }
   ],
   "source": [
    "fig, ax = plt.subplots(figsize=(10, 6))\n",
    "sns.lineplot(data=df_helmholtz, x=df_helmholtz['Temperatura'], y=df_helmholtz['Energia de Helmholtz'])\n",
    "sns.color_palette(\"Paired\")\n",
    "plt.title('Energia Livre de Helmholtz')\n",
    "plt.xlabel('Temperatura (K)')\n",
    "plt.ylabel('F (eV)')\n",
    "plt.tight_layout()\n",
    "# fig.get_figure() #'pega' o gráfico para salvar\n",
    "# fig.savefig(\"helmholtz.pdf\") #salva o gráfico "
   ]
  },
  {
   "cell_type": "markdown",
   "metadata": {},
   "source": [
    "### Playground"
   ]
  },
  {
   "cell_type": "code",
   "execution_count": 10,
   "metadata": {},
   "outputs": [
    {
     "name": "stdout",
     "output_type": "stream",
     "text": [
      "{(0, 0): [2, 4, 3, 7], (0, 1): [3, 5, 1, 8], (0, 2): [1, 6, 2, 9], (1, 0): [5, 7, 6, 1], (1, 1): [6, 8, 4, 2], (1, 2): [4, 9, 5, 3], (2, 0): [8, 1, 9, 4], (2, 1): [9, 2, 7, 5], (2, 2): [7, 3, 8, 6]}\n"
     ]
    }
   ],
   "source": [
    "def calcular_vizinhos_v1(matriz):\n",
    "    linhas, colunas = matriz.shape\n",
    "    vizinhos = {}\n",
    "\n",
    "    # Array of offsets for neighboring elements\n",
    "    offsets = np.array([[0, 1], [1, 0], [0, -1], [-1, 0]])\n",
    "\n",
    "    # Generate indices for all elements in the matrix\n",
    "    indices = itertools.product(range(linhas), range(colunas))\n",
    "\n",
    "    for i, j in indices:\n",
    "        vizinhos[(i, j)] = []\n",
    "\n",
    "        # Calculate indices of neighboring elements\n",
    "        neighbor_indices = (np.array([i, j]) + offsets) % np.array([linhas, colunas])\n",
    "\n",
    "        # Add neighbors to the current element\n",
    "        for ni, nj in neighbor_indices:\n",
    "            vizinhos[(i, j)].append(matriz[ni, nj])\n",
    "\n",
    "    return vizinhos\n",
    "\n",
    "# Example usage\n",
    "matriz = np.array([[1, 2, 3],\n",
    "                   [4, 5, 6],\n",
    "                   [7, 8, 9]])\n",
    "vizinhos = calcular_vizinhos_v1(matriz)\n",
    "print(vizinhos)\n"
   ]
  },
  {
   "cell_type": "code",
   "execution_count": 11,
   "metadata": {},
   "outputs": [
    {
     "name": "stdout",
     "output_type": "stream",
     "text": [
      "{(0, 0): ['AB', 'AB', 'BB', 'BB'], (0, 1): ['AB', 'AB', 'BB', 'BB'], (0, 2): ['AB', 'AB', 'BB', 'BB'], (1, 0): ['BB', 'BB', 'AB', 'AB'], (1, 1): ['BB', 'BB', 'AB', 'AB'], (1, 2): ['BB', 'BB', 'AB', 'AB'], (2, 0): ['BB', 'BB', 'BB', 'BB'], (2, 1): ['BB', 'BB', 'BB', 'BB'], (2, 2): ['BB', 'BB', 'BB', 'BB']}\n"
     ]
    }
   ],
   "source": [
    "import numpy as np\n",
    "\n",
    "def determinar_vizinhos_v2(matrix, size):\n",
    "    # Array of offsets for neighboring elements\n",
    "    offsets = np.array([[0, 1], [1, 0], [0, -1], [-1, 0]])\n",
    "\n",
    "    # Generate indices for all elements in the matrix\n",
    "    i, j = np.indices((size, size))\n",
    "\n",
    "    # Reshape offsets to have an extra dimension for broadcasting\n",
    "    reshaped_offsets = offsets.reshape(1, 1, -1, 2)\n",
    "\n",
    "    # Calculate indices of neighboring elements\n",
    "    neighbor_indices = (i[..., np.newaxis, np.newaxis] + reshaped_offsets) % np.array([size, size])\n",
    "\n",
    "    # Create a dictionary to store neighbors\n",
    "    vizinhos = {(x, y): [matrix[neighbor_indices[x, y, k, 0]][neighbor_indices[x, y, k, 1]] for k in range(neighbor_indices.shape[2])] for x in range(size) for y in range(size)}\n",
    "\n",
    "    return vizinhos\n",
    "\n",
    "matriz_teste = [['AA', 'AB', 'BB'], ['AB', 'BB', 'BB'], ['BB', 'BB', 'BB']]\n",
    "determiar_vizinho = determinar_vizinhos_v2(matriz_teste, 3)\n",
    "print(determiar_vizinho)\n"
   ]
  },
  {
   "cell_type": "code",
   "execution_count": null,
   "metadata": {},
   "outputs": [],
   "source": []
  }
 ],
 "metadata": {
  "interpreter": {
   "hash": "11ee0cab24e7585628641262f1eb46e0f819703062568359145952390bb25c1d"
  },
  "kernelspec": {
   "display_name": "Python 3.9.7 64-bit ('ilumpy-VS': venv)",
   "name": "python3"
  },
  "language_info": {
   "codemirror_mode": {
    "name": "ipython",
    "version": 3
   },
   "file_extension": ".py",
   "mimetype": "text/x-python",
   "name": "python",
   "nbconvert_exporter": "python",
   "pygments_lexer": "ipython3",
   "version": "3.11.6"
  },
  "orig_nbformat": 4
 },
 "nbformat": 4,
 "nbformat_minor": 2
}
