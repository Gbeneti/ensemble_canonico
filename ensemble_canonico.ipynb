{
 "cells": [
  {
   "cell_type": "code",
   "execution_count": 1,
   "metadata": {},
   "outputs": [],
   "source": [
    "import numpy as np\n",
    "import pandas as pd\n",
    "import itertools\n",
    "import matplotlib.pyplot as plt\n",
    "import seaborn as sns"
   ]
  },
  {
   "cell_type": "code",
   "execution_count": 2,
   "metadata": {},
   "outputs": [],
   "source": [
    "#constantes\n",
    "Kb = 8.6173324e-5\n",
    "\n",
    "SIZE = 3\n",
    "TEMPERATURAS = [i for i in np.arange(250,350.1,0.1)]\n",
    "\n",
    "E_A = -1\n",
    "E_B = -1\n",
    "E_AA = -0.05\n",
    "E_BB = -0.05\n",
    "E_AB = -0.05\n",
    "\n",
    "N_A = 1\n",
    "N_B = (SIZE * SIZE) - N_A\n",
    "E_on_site = N_A * E_A + N_B * E_B"
   ]
  },
  {
   "cell_type": "code",
   "execution_count": 3,
   "metadata": {},
   "outputs": [],
   "source": [
    "def possible_matrices(size, N_a, N_b):\n",
    "    \"\"\"\n",
    "    size: matrix order\n",
    "    N_a: number of 'A's to be placed\n",
    "    N_b: number of 'B's to be placed\n",
    "    \"\"\"\n",
    "    \n",
    "    # Check if the total number of elements matches the sum of N_a and N_b\n",
    "    if N_a + N_b != size * size:\n",
    "        raise ValueError(\"The total number of 'A's and 'B's should match the size of the matrix.\")\n",
    "    \n",
    "    # If N_a is zero, directly create a matrix filled with 'B's\n",
    "    if N_a == 0:\n",
    "        return np.full((1, size, size), 'B', dtype='<U1')\n",
    "    \n",
    "    # Generate all possible combinations of indices for 'A's\n",
    "    indices_A = np.array(list(itertools.combinations(range(size*size), N_a)))\n",
    "    \n",
    "    # Generate matrices with 'B's filled in all cells\n",
    "    matrices = np.full((len(indices_A), size, size), 'B', dtype='<U1')\n",
    "    \n",
    "    # Iterate through all possible combinations of indices for 'A's\n",
    "    for i, indices in enumerate(indices_A):\n",
    "        # Fill 'A's at specified indices\n",
    "        indices = np.unravel_index(indices, (size, size))\n",
    "        matrices[i][indices] = 'A'\n",
    "    \n",
    "    #print(len(matrices))\n",
    "    return matrices\n"
   ]
  },
  {
   "cell_type": "code",
   "execution_count": 4,
   "metadata": {},
   "outputs": [],
   "source": [
    "def determinar_vizinhos(matriz):\n",
    "    \"\"\" Essa função fornece um dicionário que relaciona todos os elementos na célula\n",
    "    a seus vizinhos, tanto os de dentro da célula quanto os de células vizinhas iguais.\n",
    "    \n",
    "    Args:\n",
    "    \n",
    "        matriz: a célula da qual queremos saber os elementos e seus vizinhos\n",
    "        \n",
    "    Return:\n",
    "    \n",
    "        vizinhos: um dicionário com as chaves sendo as coordenadas da matriz e os valores os vizinhos dessa coordenada\"\"\"\n",
    "    \n",
    "    vizinhos = {}\n",
    "    linhas, colunas = matriz.shape\n",
    "\n",
    "    for i, j in itertools.product(range(linhas), range(colunas)):\n",
    "        vizinhos[(i, j)] = []\n",
    "\n",
    "        # Vizinhos à direita e abaixo\n",
    "        det_vizinhos = lambda x, y: vizinhos[(i, j)].append(matriz[x, y])\n",
    "        if j < colunas - 1: det_vizinhos(i, j + 1)\n",
    "        if i < linhas - 1: det_vizinhos(i + 1, j)\n",
    "\n",
    "        # Vizinhos nas bordas\n",
    "        if j == 0: det_vizinhos(i, colunas - 1)\n",
    "        if j == colunas - 1: det_vizinhos(i, 0)\n",
    "        if i == 0: det_vizinhos(linhas - 1, j)\n",
    "        if i == linhas - 1: det_vizinhos(0, j)\n",
    "\n",
    "    return vizinhos\n"
   ]
  },
  {
   "cell_type": "code",
   "execution_count": 5,
   "metadata": {},
   "outputs": [],
   "source": [
    "def energia_total(matriz, E_AB, E_AA, E_BB, E_on_site):\n",
    "    \"\"\" Esta função calcula a energia de cada vizinho e a energia total da célula.\n",
    "    \n",
    "    Args:\n",
    "        matriz: configuração da célula.\n",
    "        E_AB: energias entre os elementos A e B.\n",
    "        E_AA: energias entre os elementos A e A.\n",
    "        E_BB: energias entre os elementos B e B.\n",
    "        E_on_site: energia para o próprio sítio.\n",
    "        \n",
    "    Return:\n",
    "        energia_célula: energia total da configuração da célula.\n",
    "        energias_vizinhos: lista com os valores de energia entre cada vizinho.\n",
    "    \"\"\"\n",
    "    vizinhos_dict = determinar_vizinhos(matriz)\n",
    "    energias_vizinhos = np.array([])\n",
    "\n",
    "    for coordenada, vizinhos in vizinhos_dict.items():\n",
    "        i, j = coordenada\n",
    "        elemento = matriz[i, j]\n",
    "        vizinhos = np.array(vizinhos)\n",
    "\n",
    "        # Energia entre o elemento e seus vizinhos\n",
    "        energia_elemento_vizinhos = np.where(elemento != vizinhos, E_AB, \n",
    "                                              np.where(elemento == 'A', E_AA, E_BB))\n",
    "        energias_vizinhos = np.concatenate((energias_vizinhos, energia_elemento_vizinhos))\n",
    "\n",
    "    energia_célula = np.sum(energias_vizinhos) + E_on_site\n",
    "    return energia_célula"
   ]
  },
  {
   "cell_type": "code",
   "execution_count": 6,
   "metadata": {},
   "outputs": [],
   "source": [
    "def helmholtz(energias, temperatura):\n",
    "    \"\"\"Essa função calcula o valor da função de partição\n",
    "    \n",
    "    Args:\n",
    "        \n",
    "        energias: lista com a energia de cada configuração da célula.\n",
    "        temperatura: temperatura na qual estaria a célula.\n",
    "        \n",
    "    Return:\n",
    "    \n",
    "        Z: valor da função de partição em uma temperatura.\n",
    "    \"\"\"\n",
    "    beta = 1.0 / (Kb * temperatura)\n",
    "    Z = 0.0\n",
    "    for energia in energias:\n",
    "        Z += np.exp(-beta * energia)\n",
    "\n",
    "    F = beta * np.log(Z)\n",
    "    \n",
    "    return F"
   ]
  },
  {
   "cell_type": "code",
   "execution_count": 7,
   "metadata": {},
   "outputs": [],
   "source": [
    "TEMPERATURA = 250\n",
    "SIZE = 3\n",
    "STEP = 1\n",
    "\n",
    "E_A = 0\n",
    "E_B = 0\n",
    "E_AA = -0.1\n",
    "E_BB = -0.2\n",
    "E_AB = -0.3"
   ]
  },
  {
   "cell_type": "code",
   "execution_count": 8,
   "metadata": {},
   "outputs": [
    {
     "name": "stdout",
     "output_type": "stream",
     "text": [
      "1\n",
      "[0 1 2 3 4 5 6 7 8 9]\n",
      "[0.         0.125      0.28571429 0.5        0.8        1.25\n",
      " 2.         3.5        8.         1.        ]\n"
     ]
    },
    {
     "name": "stderr",
     "output_type": "stream",
     "text": [
      "C:\\Users\\gustavo220061\\AppData\\Local\\Temp\\ipykernel_25512\\2932245074.py:8: RuntimeWarning: divide by zero encountered in divide\n",
      "  N_A_B_ratio = N_A_range / N_B_range\n"
     ]
    }
   ],
   "source": [
    "size = SIZE\n",
    "step = STEP\n",
    "print(STEP)\n",
    "\n",
    "N_A_range = np.array([n for n in np.arange(0,size*size+step,step)]) # 1 A size**2\n",
    "print(N_A_range)\n",
    "N_B_range = N_A_range[::-1]\n",
    "N_A_B_ratio = N_A_range / N_B_range\n",
    "N_A_B_ratio = np.where(np.isinf(N_A_B_ratio), 1, N_A_B_ratio)\n",
    "print(N_A_B_ratio)\n"
   ]
  },
  {
   "cell_type": "code",
   "execution_count": 22,
   "metadata": {},
   "outputs": [],
   "source": [
    "def analise(size, N_A, N_B, E_AB, E_AA, E_BB, temperaturas):\n",
    "    \"\"\"Essa função realiza toda a análise de caso\n",
    "    \n",
    "    Args:\n",
    "        N_A: número de átomos A.\n",
    "        N_B: número de átomos B.\n",
    "        n: ordem da célula quadrada.\n",
    "        E_AB: energia entre A e B.\n",
    "        E_AA: energia entre A e A.\n",
    "        E_BB: energia entre B e B.\n",
    "        temperatura: intervalo de temperatura em que analisaremos a célula.\n",
    "        \n",
    "    Return:\n",
    "    \n",
    "        data: dataframe com as informações de temperatura e energia livre de helmholtz.\n",
    "    \"\"\"\n",
    "    energias = []\n",
    "    lista_helm = []\n",
    "    celulas = possible_matrices(size, N_A, N_B)\n",
    "    \n",
    "    for cell in celulas:\n",
    "        energia_celula = energia_total(cell, E_AB, E_AA, E_BB,E_on_site)\n",
    "        energias.append(energia_celula)\n",
    "    \n",
    "    for T in temperaturas:\n",
    "        F = helmholtz(energias, T)\n",
    "        lista_helm.append(F)\n",
    "    \n",
    "    data = pd.DataFrame({\"Temperatura\": temperaturas, \"Energia de Helmholtz\": lista_helm})\n",
    "    return data"
   ]
  },
  {
   "cell_type": "code",
   "execution_count": 23,
   "metadata": {},
   "outputs": [
    {
     "data": {
      "text/html": [
       "<div>\n",
       "<style scoped>\n",
       "    .dataframe tbody tr th:only-of-type {\n",
       "        vertical-align: middle;\n",
       "    }\n",
       "\n",
       "    .dataframe tbody tr th {\n",
       "        vertical-align: top;\n",
       "    }\n",
       "\n",
       "    .dataframe thead th {\n",
       "        text-align: right;\n",
       "    }\n",
       "</style>\n",
       "<table border=\"1\" class=\"dataframe\">\n",
       "  <thead>\n",
       "    <tr style=\"text-align: right;\">\n",
       "      <th></th>\n",
       "      <th>Temperatura</th>\n",
       "      <th>Energia de Helmholtz</th>\n",
       "    </tr>\n",
       "  </thead>\n",
       "  <tbody>\n",
       "    <tr>\n",
       "      <th>0</th>\n",
       "      <td>250.0</td>\n",
       "      <td>31091.581062</td>\n",
       "    </tr>\n",
       "    <tr>\n",
       "      <th>1</th>\n",
       "      <td>250.1</td>\n",
       "      <td>31066.749438</td>\n",
       "    </tr>\n",
       "    <tr>\n",
       "      <th>2</th>\n",
       "      <td>250.2</td>\n",
       "      <td>31041.947572</td>\n",
       "    </tr>\n",
       "    <tr>\n",
       "      <th>3</th>\n",
       "      <td>250.3</td>\n",
       "      <td>31017.175418</td>\n",
       "    </tr>\n",
       "    <tr>\n",
       "      <th>4</th>\n",
       "      <td>250.4</td>\n",
       "      <td>30992.432929</td>\n",
       "    </tr>\n",
       "    <tr>\n",
       "      <th>...</th>\n",
       "      <td>...</td>\n",
       "      <td>...</td>\n",
       "    </tr>\n",
       "    <tr>\n",
       "      <th>997</th>\n",
       "      <td>349.7</td>\n",
       "      <td>15904.358619</td>\n",
       "    </tr>\n",
       "    <tr>\n",
       "      <th>998</th>\n",
       "      <td>349.8</td>\n",
       "      <td>15895.281126</td>\n",
       "    </tr>\n",
       "    <tr>\n",
       "      <th>999</th>\n",
       "      <td>349.9</td>\n",
       "      <td>15886.211411</td>\n",
       "    </tr>\n",
       "    <tr>\n",
       "      <th>1000</th>\n",
       "      <td>350.0</td>\n",
       "      <td>15877.149466</td>\n",
       "    </tr>\n",
       "    <tr>\n",
       "      <th>1001</th>\n",
       "      <td>350.1</td>\n",
       "      <td>15868.095281</td>\n",
       "    </tr>\n",
       "  </tbody>\n",
       "</table>\n",
       "<p>1002 rows × 2 columns</p>\n",
       "</div>"
      ],
      "text/plain": [
       "      Temperatura  Energia de Helmholtz\n",
       "0           250.0          31091.581062\n",
       "1           250.1          31066.749438\n",
       "2           250.2          31041.947572\n",
       "3           250.3          31017.175418\n",
       "4           250.4          30992.432929\n",
       "...           ...                   ...\n",
       "997         349.7          15904.358619\n",
       "998         349.8          15895.281126\n",
       "999         349.9          15886.211411\n",
       "1000        350.0          15877.149466\n",
       "1001        350.1          15868.095281\n",
       "\n",
       "[1002 rows x 2 columns]"
      ]
     },
     "execution_count": 23,
     "metadata": {},
     "output_type": "execute_result"
    }
   ],
   "source": [
    "df_helmholtz = analise(SIZE, N_A, N_B, E_AB, E_AA, E_BB, TEMPERATURAS)\n",
    "df_helmholtz"
   ]
  },
  {
   "cell_type": "code",
   "execution_count": 24,
   "metadata": {},
   "outputs": [
    {
     "data": {
      "image/png": "[encoded data removed]",
      "text/plain": [
       "<Figure size 1000x600 with 1 Axes>"
      ]
     },
     "metadata": {},
     "output_type": "display_data"
    }
   ],
   "source": [
    "fig, ax = plt.subplots(figsize=(10, 6))\n",
    "sns.lineplot(data=df_helmholtz, x=df_helmholtz['Temperatura'], y=df_helmholtz['Energia de Helmholtz'])\n",
    "sns.color_palette(\"Paired\")\n",
    "plt.title('Energia Livre de Helmholtz')\n",
    "plt.xlabel('Temperatura (K)')\n",
    "plt.ylabel('F (eV)')\n",
    "plt.tight_layout()\n",
    "# fig.get_figure() #'pega' o gráfico para salvar\n",
    "# fig.savefig(\"helmholtz.pdf\") #salva o gráfico "
   ]
  },
  {
   "cell_type": "markdown",
   "metadata": {},
   "source": [
    "### Playground"
   ]
  },
  {
   "cell_type": "code",
   "execution_count": null,
   "metadata": {},
   "outputs": [
    {
     "name": "stdout",
     "output_type": "stream",
     "text": [
      "{(0, 0): [2, 4, 3, 7], (0, 1): [3, 5, 1, 8], (0, 2): [1, 6, 2, 9], (1, 0): [5, 7, 6, 1], (1, 1): [6, 8, 4, 2], (1, 2): [4, 9, 5, 3], (2, 0): [8, 1, 9, 4], (2, 1): [9, 2, 7, 5], (2, 2): [7, 3, 8, 6]}\n"
     ]
    }
   ],
   "source": [
    "def calcular_vizinhos_v1(matriz):\n",
    "    linhas, colunas = matriz.shape\n",
    "    vizinhos = {}\n",
    "\n",
    "    # Array of offsets for neighboring elements\n",
    "    offsets = np.array([[0, 1], [1, 0], [0, -1], [-1, 0]])\n",
    "\n",
    "    # Generate indices for all elements in the matrix\n",
    "    indices = itertools.product(range(linhas), range(colunas))\n",
    "\n",
    "    for i, j in indices:\n",
    "        vizinhos[(i, j)] = []\n",
    "\n",
    "        # Calculate indices of neighboring elements\n",
    "        neighbor_indices = (np.array([i, j]) + offsets) % np.array([linhas, colunas])\n",
    "\n",
    "        # Add neighbors to the current element\n",
    "        for ni, nj in neighbor_indices:\n",
    "            vizinhos[(i, j)].append(matriz[ni, nj])\n",
    "\n",
    "    return vizinhos\n",
    "\n",
    "# Example usage\n",
    "matriz = np.array([[1, 2, 3],\n",
    "                   [4, 5, 6],\n",
    "                   [7, 8, 9]])\n",
    "vizinhos = calcular_vizinhos_v1(matriz)\n",
    "print(vizinhos)\n"
   ]
  },
  {
   "cell_type": "code",
   "execution_count": null,
   "metadata": {},
   "outputs": [
    {
     "name": "stdout",
     "output_type": "stream",
     "text": [
      "{(0, 0): ['AB', 'AB', 'BB', 'BB'], (0, 1): ['AB', 'AB', 'BB', 'BB'], (0, 2): ['AB', 'AB', 'BB', 'BB'], (1, 0): ['BB', 'BB', 'AB', 'AB'], (1, 1): ['BB', 'BB', 'AB', 'AB'], (1, 2): ['BB', 'BB', 'AB', 'AB'], (2, 0): ['BB', 'BB', 'BB', 'BB'], (2, 1): ['BB', 'BB', 'BB', 'BB'], (2, 2): ['BB', 'BB', 'BB', 'BB']}\n"
     ]
    }
   ],
   "source": [
    "import numpy as np\n",
    "\n",
    "def determinar_vizinhos_v2(matrix, size):\n",
    "    # Array of offsets for neighboring elements\n",
    "    offsets = np.array([[0, 1], [1, 0], [0, -1], [-1, 0]])\n",
    "\n",
    "    # Generate indices for all elements in the matrix\n",
    "    i, j = np.indices((size, size))\n",
    "\n",
    "    # Reshape offsets to have an extra dimension for broadcasting\n",
    "    reshaped_offsets = offsets.reshape(1, 1, -1, 2)\n",
    "\n",
    "    # Calculate indices of neighboring elements\n",
    "    neighbor_indices = (i[..., np.newaxis, np.newaxis] + reshaped_offsets) % np.array([size, size])\n",
    "\n",
    "    # Create a dictionary to store neighbors\n",
    "    vizinhos = {(x, y): [matrix[neighbor_indices[x, y, k, 0]][neighbor_indices[x, y, k, 1]] for k in range(neighbor_indices.shape[2])] for x in range(size) for y in range(size)}\n",
    "\n",
    "    return vizinhos\n",
    "\n",
    "matriz_teste = [['AA', 'AB', 'BB'], ['AB', 'BB', 'BB'], ['BB', 'BB', 'BB']]\n",
    "determiar_vizinho = determinar_vizinhos_v2(matriz_teste, 3)\n",
    "print(determiar_vizinho)\n"
   ]
  },
  {
   "cell_type": "code",
   "execution_count": null,
   "metadata": {},
   "outputs": [],
   "source": []
  }
 ],
 "metadata": {
  "interpreter": {
   "hash": "11ee0cab24e7585628641262f1eb46e0f819703062568359145952390bb25c1d"
  },
  "kernelspec": {
   "display_name": "Python 3.9.7 64-bit ('ilumpy-VS': venv)",
   "name": "python3"
  },
  "language_info": {
   "codemirror_mode": {
    "name": "ipython",
    "version": 3
   },
   "file_extension": ".py",
   "mimetype": "text/x-python",
   "name": "python",
   "nbconvert_exporter": "python",
   "pygments_lexer": "ipython3",
   "version": "3.11.6"
  },
  "orig_nbformat": 4
 },
 "nbformat": 4,
 "nbformat_minor": 2
}
