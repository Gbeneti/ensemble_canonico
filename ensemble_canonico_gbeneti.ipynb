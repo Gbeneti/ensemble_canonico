{
 "cells": [
  {
   "cell_type": "code",
   "execution_count": 1,
   "metadata": {},
   "outputs": [],
   "source": [
    "import numpy as np\n",
    "import itertools"
   ]
  },
  {
   "cell_type": "code",
   "execution_count": 11,
   "metadata": {},
   "outputs": [],
   "source": [
    "#constantes\n",
    "Kb = 8.6173324e-5"
   ]
  },
  {
   "cell_type": "code",
   "execution_count": 4,
   "metadata": {},
   "outputs": [],
   "source": [
    "def possible_matrices(size, N_a):\n",
    "    matrices = []\n",
    "    # Define the counts of A and B\n",
    "    N_b = (size * size) - N_a\n",
    "\n",
    "    # Generate all possible arrangements of \"A\" and \"B\" in the matrix\n",
    "    elements = ['A'] * N_a + ['B'] * N_b\n",
    "    arrangements = set(itertools.permutations(elements, size * size))\n",
    "\n",
    "    # Iterate over each arrangement and reshape it into a matrix\n",
    "    for arrangement in arrangements:\n",
    "        matrix = np.array(arrangement).reshape(size, size)\n",
    "        matrices.append(matrix)\n",
    "    \n",
    "    return matrices"
   ]
  },
  {
   "cell_type": "code",
   "execution_count": 6,
   "metadata": {},
   "outputs": [
    {
     "name": "stdout",
     "output_type": "stream",
     "text": [
      "[['B' 'B' 'A']\n",
      " ['B' 'B' 'B']\n",
      " ['A' 'A' 'B']]\n"
     ]
    }
   ],
   "source": [
    "matrix = possible_matrices(3,3)[0]\n",
    "print(matrix)"
   ]
  },
  {
   "cell_type": "code",
   "execution_count": 9,
   "metadata": {},
   "outputs": [],
   "source": [
    "def determiar_vizinhos(matriz, size):\n",
    "\n",
    "    # Array of offsets for neighboring elements\n",
    "    offsets = np.array([[0, 1], [1, 0], [0, -1], [-1, 0]])\n",
    "\n",
    "    # Generate indices for all elements in the matrix\n",
    "    i, j = np.indices((size, size))\n",
    "\n",
    "    # Reshape offsets to have an extra dimension for broadcasting\n",
    "    reshaped_offsets = offsets.reshape(1, 1, -1, 2)\n",
    "\n",
    "    # Calculate indices of neighboring elements\n",
    "    neighbor_indices = (i[..., np.newaxis, np.newaxis] + reshaped_offsets) % np.array([size,size])\n",
    "\n",
    "    # Create a dictionary to store neighbors\n",
    "    vizinhos = {(x, y): matriz[neighbor_indices[x, y, :, 0], neighbor_indices[x, y, :, 1]].tolist() for x in range(size) for y in range(size)}\n",
    "\n",
    "    return vizinhos\n"
   ]
  },
  {
   "cell_type": "code",
   "execution_count": 10,
   "metadata": {},
   "outputs": [
    {
     "name": "stdout",
     "output_type": "stream",
     "text": [
      "{(0, 0): ['B', 'B', 'A', 'A'], (0, 1): ['B', 'B', 'A', 'A'], (0, 2): ['B', 'B', 'A', 'A'], (1, 0): ['B', 'A', 'B', 'B'], (1, 1): ['B', 'A', 'B', 'B'], (1, 2): ['B', 'A', 'B', 'B'], (2, 0): ['A', 'A', 'A', 'B'], (2, 1): ['A', 'A', 'A', 'B'], (2, 2): ['A', 'A', 'A', 'B']}\n"
     ]
    }
   ],
   "source": [
    "determiar_vizinho = determiar_vizinhos(matrix,3)\n",
    "print(determiar_vizinho)"
   ]
  },
  {
   "cell_type": "code",
   "execution_count": 12,
   "metadata": {},
   "outputs": [],
   "source": [
    "def helmholtz(energias, temperatura):\n",
    "    \"\"\"Essa função calcula o valor da função de partição\n",
    "    \n",
    "    Args:\n",
    "        \n",
    "        energias: lista com a energia de cada configuração da célula.\n",
    "        temperatura: temperatura na qual estaria a célula.\n",
    "        \n",
    "    Return:\n",
    "    \n",
    "        Z: valor da função de partição em uma temperatura.\n",
    "    \"\"\"\n",
    "    beta = 1.0 / (Kb * temperatura)\n",
    "    Z = 0.0\n",
    "    for energia in energias:\n",
    "        Z += np.exp(-beta * energia)\n",
    "\n",
    "    F = beta * np.log(Z)\n",
    "    \n",
    "    return F"
   ]
  },
  {
   "cell_type": "code",
   "execution_count": null,
   "metadata": {},
   "outputs": [],
   "source": []
  }
 ],
 "metadata": {
  "interpreter": {
   "hash": "11ee0cab24e7585628641262f1eb46e0f819703062568359145952390bb25c1d"
  },
  "kernelspec": {
   "display_name": "Python 3.9.7 64-bit ('ilumpy-VS': venv)",
   "name": "python3"
  },
  "language_info": {
   "codemirror_mode": {
    "name": "ipython",
    "version": 3
   },
   "file_extension": ".py",
   "mimetype": "text/x-python",
   "name": "python",
   "nbconvert_exporter": "python",
   "pygments_lexer": "ipython3",
   "version": "3.11.6"
  },
  "orig_nbformat": 4
 },
 "nbformat": 4,
 "nbformat_minor": 2
}
